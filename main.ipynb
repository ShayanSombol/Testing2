{
 "cells": [
  {
   "attachments": {},
   "cell_type": "markdown",
   "metadata": {},
   "source": [
    "# AcuityMD Challenge\n",
    "\n",
    "Below is some code that simply loads the data stored in `database.db`, so that you can execute some SQL queries using the pandas library. "
   ]
  },
  {
   "attachments": {},
   "cell_type": "markdown",
   "metadata": {},
   "source": [
    "## 1. Find the Top HCPs"
   ]
  },
  {
   "attachments": {},
   "cell_type": "markdown",
   "metadata": {},
   "source": [
    "### 1.1 Install Libraries\n",
    "\n",
    "Note, please do not use any additional libraries. Your solution should be completed in SQL."
   ]
  },
  {
   "cell_type": "code",
   "execution_count": 2,
   "metadata": {},
   "outputs": [
    {
     "name": "stdout",
     "output_type": "stream",
     "text": [
      "Defaulting to user installation because normal site-packages is not writeable\n",
      "Collecting pandas\n",
      "  Downloading pandas-2.1.0-cp39-cp39-macosx_11_0_arm64.whl (11.3 MB)\n",
      "\u001b[K     |████████████████████████████████| 11.3 MB 4.0 MB/s eta 0:00:01\n",
      "\u001b[?25hCollecting pytz>=2020.1\n",
      "  Downloading pytz-2023.3.post1-py2.py3-none-any.whl (502 kB)\n",
      "\u001b[K     |████████████████████████████████| 502 kB 19.2 MB/s eta 0:00:01\n",
      "\u001b[?25hRequirement already satisfied: python-dateutil>=2.8.2 in /Users/shayan/Library/Python/3.9/lib/python/site-packages (from pandas) (2.8.2)\n",
      "Collecting numpy>=1.22.4\n",
      "  Downloading numpy-1.26.0-cp39-cp39-macosx_11_0_arm64.whl (14.0 MB)\n",
      "\u001b[K     |████████████████████████████████| 14.0 MB 825 kB/s eta 0:00:01\n",
      "\u001b[?25hCollecting tzdata>=2022.1\n",
      "  Downloading tzdata-2023.3-py2.py3-none-any.whl (341 kB)\n",
      "\u001b[K     |████████████████████████████████| 341 kB 54.0 MB/s eta 0:00:01\n",
      "\u001b[?25hRequirement already satisfied: six>=1.5 in /Applications/Xcode.app/Contents/Developer/Library/Frameworks/Python3.framework/Versions/3.9/lib/python3.9/site-packages (from python-dateutil>=2.8.2->pandas) (1.15.0)\n",
      "Installing collected packages: tzdata, pytz, numpy, pandas\n",
      "Successfully installed numpy-1.26.0 pandas-2.1.0 pytz-2023.3.post1 tzdata-2023.3\n",
      "\u001b[33mWARNING: You are using pip version 21.2.4; however, version 23.2.1 is available.\n",
      "You should consider upgrading via the '/Applications/Xcode.app/Contents/Developer/usr/bin/python3 -m pip install --upgrade pip' command.\u001b[0m\n",
      "Note: you may need to restart the kernel to use updated packages.\n"
     ]
    }
   ],
   "source": [
    "%pip install pandas\n",
    "import pandas as pd\n",
    "import sqlite3"
   ]
  },
  {
   "attachments": {},
   "cell_type": "markdown",
   "metadata": {},
   "source": [
    "### 1.2 Implementation"
   ]
  },
  {
   "attachments": {},
   "cell_type": "markdown",
   "metadata": {},
   "source": [
    "#### 1.2.1 Check the table names"
   ]
  },
  {
   "cell_type": "code",
   "execution_count": 3,
   "metadata": {},
   "outputs": [
    {
     "name": "stdout",
     "output_type": "stream",
     "text": [
      "[('sqlite_sequence',), ('HealthcareProfessionals',), ('SiteOfCares',), ('ProcedureData',), ('SaleData',)]\n"
     ]
    }
   ],
   "source": [
    "\n",
    "con = sqlite3.connect('database.db')\n",
    "cursor = con.cursor()\n",
    "cursor.execute(\"SELECT name FROM sqlite_master WHERE type='table';\")\n",
    "print(cursor.fetchall())"
   ]
  },
  {
   "cell_type": "markdown",
   "metadata": {},
   "source": [
    "#### 1.2.2 Make SQL Query"
   ]
  },
  {
   "cell_type": "markdown",
   "metadata": {},
   "source": [
    "##### ProcedureData"
   ]
  },
  {
   "cell_type": "code",
   "execution_count": 24,
   "metadata": {},
   "outputs": [
    {
     "name": "stdout",
     "output_type": "stream",
     "text": [
      "   hcp  soc  volume\n",
      "0    0    0      15\n",
      "1    0   91      15\n",
      "2    0   73      13\n",
      "3    0   14      14\n",
      "4    1   13      73\n",
      "5    2   78      27\n",
      "6    2   54      25\n",
      "7    2   66      18\n",
      "8    4    9      22\n",
      "9    4    6       6\n"
     ]
    }
   ],
   "source": [
    "df = pd.read_sql_query(\"SELECT hcp, soc, volume FROM ProcedureData LIMIT 10\", con)\n",
    "print(df.head(5))"
   ]
  },
  {
   "cell_type": "code",
   "execution_count": 37,
   "metadata": {},
   "outputs": [
    {
     "name": "stdout",
     "output_type": "stream",
     "text": [
      "   hcp_cnt\n",
      "0      814\n",
      "1      334\n",
      "2      334\n"
     ]
    }
   ],
   "source": [
    "df = pd.read_sql_query(\"SELECT COUNT(DISTINCT hcp) hcp_cnt FROM ProcedureData UNION ALL SELECT COUNT(DISTINCT hcp) hcp_cnt FROM SaleData UNION ALL SELECT COUNT(DISTINCT s.hcp) hcp_cnt FROM SaleData s inner join ProcedureData p ON s.hcp = p.hcp\", con)\n",
    "print(df.head(5))"
   ]
  },
  {
   "cell_type": "code",
   "execution_count": 28,
   "metadata": {},
   "outputs": [
    {
     "name": "stdout",
     "output_type": "stream",
     "text": [
      "    hcp  soc  procedure_volume\n",
      "0     0    0                15\n",
      "1     0   91                15\n",
      "2     0   73                13\n",
      "3     0   14                14\n",
      "4     1   13                73\n",
      "..  ...  ...               ...\n",
      "95   40   99                17\n",
      "96   41   17                21\n",
      "97   41   78                39\n",
      "98   42   74                 6\n",
      "99   42   78                 5\n",
      "\n",
      "[100 rows x 3 columns]\n"
     ]
    }
   ],
   "source": [
    "df = pd.read_sql_query(\"SELECT DISTINCT hcp,soc, volume as procedure_volume FROM ProcedureData\", con)\n",
    "print(df.head(100))\n"
   ]
  },
  {
   "cell_type": "markdown",
   "metadata": {},
   "source": [
    "##### SaleData"
   ]
  },
  {
   "cell_type": "code",
   "execution_count": 26,
   "metadata": {},
   "outputs": [
    {
     "name": "stdout",
     "output_type": "stream",
     "text": [
      "   hcp  soc  sales_volume\n",
      "0    0    0            15\n",
      "1    0   91            15\n",
      "2    0   73            13\n",
      "3    1   13            73\n",
      "4    2   54            25\n",
      "5    6   31            16\n",
      "6    6   17            12\n",
      "7    6   47            19\n",
      "8   11   40            23\n",
      "9   13   74             0\n"
     ]
    }
   ],
   "source": [
    "df = pd.read_sql_query(\"SELECT hcp,soc, volume as sales_volume FROM SaleData LIMIT 10\", con)\n",
    "print(df.head(10))"
   ]
  },
  {
   "cell_type": "markdown",
   "metadata": {},
   "source": [
    "#### 1.2.3 Elephant\n",
    "##### gap between sales and procedures completed by <mark>an HCP<mark>\n",
    "##### procedure_volume - sales_volume"
   ]
  },
  {
   "cell_type": "code",
   "execution_count": 43,
   "metadata": {},
   "outputs": [
    {
     "name": "stdout",
     "output_type": "stream",
     "text": [
      "   hcp  total_procedure_volume  total_sales_volume  gap\n",
      "0  877                     224                  36  188\n",
      "1  627                      99                   0   99\n",
      "2  946                      62                   4   58\n",
      "3  317                      96                  40   56\n",
      "4   55                     142                  92   50\n",
      "5  189                      52                   4   48\n",
      "6  366                      59                  12   47\n",
      "7  573                      46                   0   46\n",
      "8  214                      44                   0   44\n",
      "9  179                      48                   4   44\n"
     ]
    }
   ],
   "source": [
    "df = pd.read_sql_query(\"SELECT DISTINCT p.hcp, SUM(p.volume) total_procedure_volume,SUM(s.volume) total_sales_volume, SUM(p.volume) - SUM(s.volume) gap FROM ProcedureData p LEFT JOIN SaleData s ON s.hcp = p.hcp GROUP BY 1 ORDER BY 4 desc LIMIT 10\", con)\n",
    "print(df.head(50))"
   ]
  },
  {
   "attachments": {},
   "cell_type": "markdown",
   "metadata": {},
   "source": [
    "### 1.3 Notes\n",
    "\n",
    "#### 1.3.1 Assumptions:\n",
    "\n",
    "* **Time Consistency**: To ensure an unbiased comparison among HCPs, it is imperative that we capture sales volume and procedure volume data over the same time frame for all HCPs. I assume the duration of time among different HCPs is consistant.\n",
    "\n",
    "* **Seasonal Influence**: Even when data spans the same duration for each HCP, disparities in timing, such as one HCP's data covering the first quarter and another's spanning the fourth quarter, can introduce bias due to seasonal variations. I assume seasonality doesn't play a role here. \n",
    "\n",
    "* **Data Accuracy and Currency**: Data quality can be variable. While sales data is likely to be clean and up-to-date(more likely to be internal data), procedure data involves multiple parties and may suffer from inaccuracies and delays. For the purpose of this analysis, I assume that all data is both accurate and current.\n",
    "\n",
    "* **Device Usage Exclusivity**: I assume that each HCP exclusively uses the medical devices they purchase. In cases where multiple HCPs exist within an SOC, we presume that devices are not shared among them.\n",
    "\n",
    "#### 1.3.2 Explanation:\n",
    "\n",
    "* The Elephant method calculates the gap between sales and procedures completed by an HCP, and it is independent of the SOC. Thus, SOC does not affect and is not included in this calculation.\n",
    "\n",
    "* There are 814 unique HCPs in the ProcedureData table and 334 unique HCPs in the SaleData table. All HCPs in the SaleData table are also present in the ProcedureData table, suggesting that a LEFT JOIN should be used.\n",
    "\n",
    "* The results are sorted based on the \"gap\" and the top 5 results are displayed."
   ]
  },
  {
   "attachments": {},
   "cell_type": "markdown",
   "metadata": {},
   "source": [
    "## 2. Written Extension\n",
    "\n",
    "In this step, we would like you to add the answer to the following questions in this section.\n",
    "There can be multiple ways to prioritize HCPs to target, for example one might use an \"upsell\" strategy, which would prioritize HCPs with the most existing sales.\n",
    "\n",
    "- How would you change your solution to handle returning the \"top\" HCPs based on multiple strategies, for example both \"upsell\" and \"elephant\"? Describe your approach, without writing any code. How would you consider sorting HCPS when using multiple strategies? \n",
    "\n",
    "Describe your approach, without writing any code. Given this description, an engineer should be able to implement a solution. Please keep your response under 500 words."
   ]
  },
  {
   "cell_type": "markdown",
   "metadata": {},
   "source": [
    "### 2.1 Answer:\n",
    "\n",
    "I aim to identify the top HCPs by combining the \"upsell\" and \"elephant\" methods. Assuming that the upsell method results are precomputed and available in a table for each HCP, here are my proposed sorting methods:\n",
    "\n",
    "* **scoring system:** Initially, I recommend merging the two tables and introducing a new column named \"score.\" This score can be derived using the formula (a X gap) + (b X most existing sales), with 'a' and 'b' representing coefficients.(appropriate coefficient values are identified during the data exploration phase, and are given to the engineer who is bulding this). Subsequently, the table should be sorted in descending order based on the new score, allowing us to select the top-performing HCPs.\n",
    "\n",
    "* **ranking:** Another viable approach involves utilizing the row_number() function to establish rankings for each HCP, independently for each strategy. Afterward, we can aggregate the rankings across strategies, sort all HCPs in ascending order based on the cumulative rankings, and choose the top-performing HCPs.\n",
    "\n",
    "Each of these methods comes with its pros and cons. While both can be employed for more than two strategies, offering versatility in the analysis, here are some key considerations:\n",
    "\n",
    "Ranking approach offers a swift solution, but it can lead to situations where multiple HCPs share the same rank. For instance, we might have four HCPs with a cumulative ranking of 5. This can be less precise in distinguishing their performance.\n",
    "\n",
    "On the other hand, the scoring method demands more time, particularly during the data exploration phase, but it yields more dependable results. It provides a more accurate evaluation of HCP performance by considering coefficient values, offering better insights into their effectiveness."
   ]
  },
  {
   "cell_type": "markdown",
   "metadata": {},
   "source": []
  }
 ],
 "metadata": {
  "anaconda-cloud": {},
  "kernelspec": {
   "display_name": "Python 3",
   "language": "python",
   "name": "python3"
  },
  "language_info": {
   "codemirror_mode": {
    "name": "ipython",
    "version": 3
   },
   "file_extension": ".py",
   "mimetype": "text/x-python",
   "name": "python",
   "nbconvert_exporter": "python",
   "pygments_lexer": "ipython3",
   "version": "3.9.6"
  }
 },
 "nbformat": 4,
 "nbformat_minor": 2
}
